{
 "cells": [
  {
   "cell_type": "markdown",
   "metadata": {},
   "source": [
    "![title](presentation_images/logo_dauphine.png)"
   ]
  },
  {
   "cell_type": "markdown",
   "metadata": {},
   "source": [
    "# Adversarial Attack Project"
   ]
  },
  {
   "cell_type": "markdown",
   "metadata": {
    "toc": true
   },
   "source": [
    "<h1>Table of Contents<span class=\"tocSkip\"></span></h1>\n",
    "<div class=\"toc\"><ul class=\"toc-item\"><li><span><a href=\"#Some-function-imports\" data-toc-modified-id=\"Some-function-imports-1\"><span class=\"toc-item-num\">1&nbsp;&nbsp;</span>Some function imports</a></span></li><li><span><a href=\"#Import-data\" data-toc-modified-id=\"Import-data-2\"><span class=\"toc-item-num\">2&nbsp;&nbsp;</span>Import data</a></span></li><li><span><a href=\"#Show-some-random-18-images-among-the-50-000-images\" data-toc-modified-id=\"Show-some-random-18-images-among-the-50-000-images-3\"><span class=\"toc-item-num\">3&nbsp;&nbsp;</span>Show some random 18 images among the 50 000 images</a></span></li><li><span><a href=\"#Show-results-of-our-simple-CNN-on-those-data-(CIFAR10)\" data-toc-modified-id=\"Show-results-of-our-simple-CNN-on-those-data-(CIFAR10)-4\"><span class=\"toc-item-num\">4&nbsp;&nbsp;</span>Show results of our simple CNN on those data (CIFAR10)</a></span><ul class=\"toc-item\"><li><span><a href=\"#Our-model\" data-toc-modified-id=\"Our-model-4.1\"><span class=\"toc-item-num\">4.1&nbsp;&nbsp;</span>Our model</a></span><ul class=\"toc-item\"><li><span><a href=\"#Load-the-model\" data-toc-modified-id=\"Load-the-model-4.1.1\"><span class=\"toc-item-num\">4.1.1&nbsp;&nbsp;</span>Load the model</a></span></li><li><span><a href=\"#Model-Architecture\" data-toc-modified-id=\"Model-Architecture-4.1.2\"><span class=\"toc-item-num\">4.1.2&nbsp;&nbsp;</span>Model Architecture</a></span></li><li><span><a href=\"#Model-parameters\" data-toc-modified-id=\"Model-parameters-4.1.3\"><span class=\"toc-item-num\">4.1.3&nbsp;&nbsp;</span>Model parameters</a></span></li></ul></li><li><span><a href=\"#Effectiveness-of-our-model-on-CIFAR10\" data-toc-modified-id=\"Effectiveness-of-our-model-on-CIFAR10-4.2\"><span class=\"toc-item-num\">4.2&nbsp;&nbsp;</span>Effectiveness of our model on CIFAR10</a></span></li></ul></li><li><span><a href=\"#Show-the-effect-of-an-attack-on-the-model-accuracy\" data-toc-modified-id=\"Show-the-effect-of-an-attack-on-the-model-accuracy-5\"><span class=\"toc-item-num\">5&nbsp;&nbsp;</span>Show the effect of an attack on the model accuracy</a></span><ul class=\"toc-item\"><li><span><a href=\"#Let's-take-one-random-image\" data-toc-modified-id=\"Let's-take-one-random-image-5.1\"><span class=\"toc-item-num\">5.1&nbsp;&nbsp;</span>Let's take one random image</a></span></li><li><span><a href=\"#How-to-noise-this-image-in-order-to-fool-the-model-?\" data-toc-modified-id=\"How-to-noise-this-image-in-order-to-fool-the-model-?-5.2\"><span class=\"toc-item-num\">5.2&nbsp;&nbsp;</span>How to noise this image in order to fool the model ?</a></span><ul class=\"toc-item\"><li><span><a href=\"#Show-the-ideal-noise-to-add-to-this-image-to-fool-the-model\" data-toc-modified-id=\"Show-the-ideal-noise-to-add-to-this-image-to-fool-the-model-5.2.1\"><span class=\"toc-item-num\">5.2.1&nbsp;&nbsp;</span>Show the ideal noise to add to this image to fool the model</a></span></li><li><span><a href=\"#First-gradient-sign-method-(FGSM)-effect-depending-on-$\\epsilon$\" data-toc-modified-id=\"First-gradient-sign-method-(FGSM)-effect-depending-on-$\\epsilon$-5.2.2\"><span class=\"toc-item-num\">5.2.2&nbsp;&nbsp;</span>First gradient sign method (FGSM) effect depending on $\\epsilon$</a></span></li><li><span><a href=\"#PGD-method-effect-depending-on-$\\epsilon$-and-number-of-iterations\" data-toc-modified-id=\"PGD-method-effect-depending-on-$\\epsilon$-and-number-of-iterations-5.2.3\"><span class=\"toc-item-num\">5.2.3&nbsp;&nbsp;</span>PGD method effect depending on $\\epsilon$ and number of iterations</a></span></li></ul></li><li><span><a href=\"#Effectiveness-of-our-model-on-attacked-data-with-FGSM-with-$\\epsilon-=-0.03$\" data-toc-modified-id=\"Effectiveness-of-our-model-on-attacked-data-with-FGSM-with-$\\epsilon-=-0.03$-5.3\"><span class=\"toc-item-num\">5.3&nbsp;&nbsp;</span>Effectiveness of our model on attacked data with FGSM with $\\epsilon = 0.03$</a></span><ul class=\"toc-item\"><li><span><a href=\"#Load-Attacked-data\" data-toc-modified-id=\"Load-Attacked-data-5.3.1\"><span class=\"toc-item-num\">5.3.1&nbsp;&nbsp;</span>Load Attacked data</a></span></li></ul></li><li><span><a href=\"#Effectiveness-of-our-model-on-attacked-data-with-PGD-with-$\\epsilon-=-0.008$-and-nb_iter-=-$5$\" data-toc-modified-id=\"Effectiveness-of-our-model-on-attacked-data-with-PGD-with-$\\epsilon-=-0.008$-and-nb_iter-=-$5$-5.4\"><span class=\"toc-item-num\">5.4&nbsp;&nbsp;</span>Effectiveness of our model on attacked data with PGD with $\\epsilon = 0.008$ and nb_iter = $5$</a></span><ul class=\"toc-item\"><li><span><a href=\"#Load-attacked-data\" data-toc-modified-id=\"Load-attacked-data-5.4.1\"><span class=\"toc-item-num\">5.4.1&nbsp;&nbsp;</span>Load attacked data</a></span></li></ul></li></ul></li><li><span><a href=\"#Show-effectiveness-of-adversarial-training\" data-toc-modified-id=\"Show-effectiveness-of-adversarial-training-6\"><span class=\"toc-item-num\">6&nbsp;&nbsp;</span>Show effectiveness of adversarial training</a></span><ul class=\"toc-item\"><li><span><a href=\"#Load-the-model\" data-toc-modified-id=\"Load-the-model-6.1\"><span class=\"toc-item-num\">6.1&nbsp;&nbsp;</span>Load the model</a></span></li><li><span><a href=\"#Performance-of-the-model-on-x_test-under-attack-FGSM-with-$\\epsilon=0.03$\" data-toc-modified-id=\"Performance-of-the-model-on-x_test-under-attack-FGSM-with-$\\epsilon=0.03$-6.2\"><span class=\"toc-item-num\">6.2&nbsp;&nbsp;</span>Performance of the model on x_test under attack FGSM with $\\epsilon=0.03$</a></span></li><li><span><a href=\"#Performance-of-the-model-on-x_test-under-attack-PGD-with-$\\epsilon=0.008$-and-nb_iter=$5$\" data-toc-modified-id=\"Performance-of-the-model-on-x_test-under-attack-PGD-with-$\\epsilon=0.008$-and-nb_iter=$5$-6.3\"><span class=\"toc-item-num\">6.3&nbsp;&nbsp;</span>Performance of the model on x_test under attack PGD with $\\epsilon=0.008$ and nb_iter=$5$</a></span></li><li><span><a href=\"#Performance-of-this-model-on-x_test\" data-toc-modified-id=\"Performance-of-this-model-on-x_test-6.4\"><span class=\"toc-item-num\">6.4&nbsp;&nbsp;</span>Performance of this model on x_test</a></span></li></ul></li><li><span><a href=\"#Show-robustness-of-a-model-trained-on-not-attacked-data-and-attacked-data\" data-toc-modified-id=\"Show-robustness-of-a-model-trained-on-not-attacked-data-and-attacked-data-7\"><span class=\"toc-item-num\">7&nbsp;&nbsp;</span>Show robustness of a model trained on not attacked data and attacked data</a></span><ul class=\"toc-item\"><li><span><a href=\"#Load-the-model\" data-toc-modified-id=\"Load-the-model-7.1\"><span class=\"toc-item-num\">7.1&nbsp;&nbsp;</span>Load the model</a></span></li><li><span><a href=\"#Performance-of-this-model-on-not-attacked-data\" data-toc-modified-id=\"Performance-of-this-model-on-not-attacked-data-7.2\"><span class=\"toc-item-num\">7.2&nbsp;&nbsp;</span>Performance of this model on not attacked data</a></span></li><li><span><a href=\"#Performance-of-this-model-on-attacked-data\" data-toc-modified-id=\"Performance-of-this-model-on-attacked-data-7.3\"><span class=\"toc-item-num\">7.3&nbsp;&nbsp;</span>Performance of this model on attacked data</a></span></li></ul></li><li><span><a href=\"#Summary\" data-toc-modified-id=\"Summary-8\"><span class=\"toc-item-num\">8&nbsp;&nbsp;</span>Summary</a></span></li><li><span><a href=\"#Further-investigation\" data-toc-modified-id=\"Further-investigation-9\"><span class=\"toc-item-num\">9&nbsp;&nbsp;</span>Further investigation</a></span></li></ul></div>"
   ]
  },
  {
   "cell_type": "markdown",
   "metadata": {},
   "source": [
    "## Some function imports"
   ]
  },
  {
   "cell_type": "code",
   "execution_count": null,
   "metadata": {},
   "outputs": [],
   "source": [
    "import os\n",
    "import sys\n",
    "import random \n",
    "import matplotlib.pyplot as plt\n",
    "import tensorflow as tf\n",
    "import numpy as np\n",
    "from tensorflow.keras.models import load_model\n",
    "cwd = os.path.join(os.getcwd())\n",
    "sys.path.append(cwd)\n",
    "\n",
    "# Custom functions\n",
    "import constants as cst\n",
    "import import_data\n",
    "import models\n",
    "import attack_function\n",
    "import visualization"
   ]
  },
  {
   "cell_type": "markdown",
   "metadata": {},
   "source": [
    "## Import data"
   ]
  },
  {
   "cell_type": "code",
   "execution_count": null,
   "metadata": {},
   "outputs": [
    {
     "name": "stdout",
     "output_type": "stream",
     "text": [
      "ERROR! Session/line number was not unique in database. History logging moved to new session 208\n"
     ]
    }
   ],
   "source": [
    "x_train, y_train, x_test, y_test = import_data.format_data()"
   ]
  },
  {
   "cell_type": "markdown",
   "metadata": {},
   "source": [
    "## Show some random 18 images among the 50 000 images"
   ]
  },
  {
   "cell_type": "code",
   "execution_count": null,
   "metadata": {},
   "outputs": [
    {
     "name": "stdout",
     "output_type": "stream",
     "text": [
      "ERROR! Session/line number was not unique in database. History logging moved to new session 209\n"
     ]
    }
   ],
   "source": [
    "visualization.show_data(x_train, y_train)"
   ]
  },
  {
   "cell_type": "markdown",
   "metadata": {},
   "source": [
    "## Show results of our simple CNN on those data (CIFAR10)"
   ]
  },
  {
   "cell_type": "markdown",
   "metadata": {},
   "source": [
    "### Our model"
   ]
  },
  {
   "cell_type": "markdown",
   "metadata": {},
   "source": [
    "#### Load the model"
   ]
  },
  {
   "cell_type": "code",
   "execution_count": null,
   "metadata": {},
   "outputs": [
    {
     "name": "stdout",
     "output_type": "stream",
     "text": [
      "ERROR! Session/line number was not unique in database. History logging moved to new session 210\n"
     ]
    }
   ],
   "source": [
    "model = load_model(cst.STANDARD_trained_model)"
   ]
  },
  {
   "cell_type": "markdown",
   "metadata": {},
   "source": [
    "#### Model Architecture"
   ]
  },
  {
   "cell_type": "markdown",
   "metadata": {},
   "source": [
    "![title](presentation_images/standard_model_arch.png)"
   ]
  },
  {
   "cell_type": "markdown",
   "metadata": {},
   "source": [
    "#### Model parameters"
   ]
  },
  {
   "cell_type": "markdown",
   "metadata": {},
   "source": [
    "- convolutional layers kernel size : $3$\n",
    "- number of epochs : $100$\n",
    "- batch_size : $128$\n",
    "- validation split : $0.1$\n",
    "- optimizer : Stochastic gradient descent\n",
    "- learning rate : $0.01$ "
   ]
  },
  {
   "cell_type": "markdown",
   "metadata": {},
   "source": [
    "### Effectiveness of our model on CIFAR10"
   ]
  },
  {
   "cell_type": "code",
   "execution_count": null,
   "metadata": {},
   "outputs": [
    {
     "name": "stdout",
     "output_type": "stream",
     "text": [
      "ERROR! Session/line number was not unique in database. History logging moved to new session 211\n"
     ]
    }
   ],
   "source": [
    "visualization.show_dataset_and_predictions(x_test, y_test, model)"
   ]
  },
  {
   "cell_type": "markdown",
   "metadata": {},
   "source": [
    "# Part 1 : Develop classical attacks and simple defense"
   ]
  },
  {
   "cell_type": "markdown",
   "metadata": {},
   "source": [
    "## Show the effect of an attack on the model accuracy"
   ]
  },
  {
   "cell_type": "markdown",
   "metadata": {},
   "source": [
    "### Let's take one random image"
   ]
  },
  {
   "cell_type": "code",
   "execution_count": null,
   "metadata": {},
   "outputs": [
    {
     "name": "stdout",
     "output_type": "stream",
     "text": [
      "ERROR! Session/line number was not unique in database. History logging moved to new session 212\n"
     ]
    }
   ],
   "source": [
    "r1 = random.randint(0, 49999)\n",
    "visualization.show_one_image(x_train, y_train, r1)"
   ]
  },
  {
   "cell_type": "markdown",
   "metadata": {},
   "source": [
    "### How to noise this image in order to fool the model ?"
   ]
  },
  {
   "cell_type": "markdown",
   "metadata": {},
   "source": [
    "#### Show the ideal noise to add to this image to fool the model"
   ]
  },
  {
   "cell_type": "code",
   "execution_count": null,
   "metadata": {},
   "outputs": [
    {
     "name": "stdout",
     "output_type": "stream",
     "text": [
      "ERROR! Session/line number was not unique in database. History logging moved to new session 213\n"
     ]
    }
   ],
   "source": [
    "visualization.show_noise(x_train[r1], y_train[r1], model)"
   ]
  },
  {
   "cell_type": "markdown",
   "metadata": {},
   "source": [
    "But to make the attack interesting, the image has to stay unchanged to the human eye"
   ]
  },
  {
   "cell_type": "markdown",
   "metadata": {},
   "source": [
    "#### First gradient sign method (FGSM) effect depending on $\\epsilon$"
   ]
  },
  {
   "cell_type": "code",
   "execution_count": null,
   "metadata": {
    "scrolled": false
   },
   "outputs": [
    {
     "name": "stdout",
     "output_type": "stream",
     "text": [
      "ERROR! Session/line number was not unique in database. History logging moved to new session 214\n"
     ]
    }
   ],
   "source": [
    "perturbations = visualization.create_adversarial_pattern(x_train[r1], y_train[r1], model)\n",
    "visualization.show_FGSM_attack_effect(x_train[r1], y_train[r1], perturbations, model)"
   ]
  },
  {
   "cell_type": "markdown",
   "metadata": {},
   "source": [
    "#### PGD method effect depending on $\\epsilon$ and number of iterations"
   ]
  },
  {
   "cell_type": "code",
   "execution_count": null,
   "metadata": {
    "scrolled": false
   },
   "outputs": [
    {
     "name": "stdout",
     "output_type": "stream",
     "text": [
      "ERROR! Session/line number was not unique in database. History logging moved to new session 215\n"
     ]
    }
   ],
   "source": [
    "visualization.show_PGD_attack_effect(x_train[r1], y_train[r1], perturbations, 5, model)"
   ]
  },
  {
   "cell_type": "markdown",
   "metadata": {},
   "source": [
    "### Effectiveness of our model on attacked data with FGSM with $\\epsilon = 0.03$"
   ]
  },
  {
   "cell_type": "markdown",
   "metadata": {},
   "source": [
    "#### Load Attacked data"
   ]
  },
  {
   "cell_type": "code",
   "execution_count": null,
   "metadata": {},
   "outputs": [
    {
     "name": "stdout",
     "output_type": "stream",
     "text": [
      "ERROR! Session/line number was not unique in database. History logging moved to new session 216\n"
     ]
    }
   ],
   "source": [
    "x_test_attacked_FGSM = np.load(cst.ATTACKED_TEST_FGSM)"
   ]
  },
  {
   "cell_type": "code",
   "execution_count": null,
   "metadata": {},
   "outputs": [
    {
     "name": "stdout",
     "output_type": "stream",
     "text": [
      "ERROR! Session/line number was not unique in database. History logging moved to new session 217\n"
     ]
    }
   ],
   "source": [
    "visualization.show_dataset_and_predictions(x_test_attacked_FGSM, y_test, model)"
   ]
  },
  {
   "cell_type": "markdown",
   "metadata": {},
   "source": [
    "### Effectiveness of our model on attacked data with PGD with $\\epsilon = 0.008$ and nb_iter = $5$"
   ]
  },
  {
   "cell_type": "markdown",
   "metadata": {},
   "source": [
    "#### Load attacked data"
   ]
  },
  {
   "cell_type": "code",
   "execution_count": null,
   "metadata": {},
   "outputs": [
    {
     "name": "stdout",
     "output_type": "stream",
     "text": [
      "ERROR! Session/line number was not unique in database. History logging moved to new session 218\n"
     ]
    }
   ],
   "source": [
    "x_test_attacked = np.load(cst.ATTACKED_TEST_PGD)"
   ]
  },
  {
   "cell_type": "code",
   "execution_count": null,
   "metadata": {},
   "outputs": [
    {
     "name": "stdout",
     "output_type": "stream",
     "text": [
      "ERROR! Session/line number was not unique in database. History logging moved to new session 219\n"
     ]
    }
   ],
   "source": [
    "visualization.show_dataset_and_predictions(x_test_attacked, y_test, model)"
   ]
  },
  {
   "cell_type": "markdown",
   "metadata": {},
   "source": [
    "## Show effectiveness of adversarial training"
   ]
  },
  {
   "cell_type": "markdown",
   "metadata": {},
   "source": [
    "### Load the model"
   ]
  },
  {
   "cell_type": "code",
   "execution_count": null,
   "metadata": {},
   "outputs": [
    {
     "name": "stdout",
     "output_type": "stream",
     "text": [
      "ERROR! Session/line number was not unique in database. History logging moved to new session 220\n"
     ]
    }
   ],
   "source": [
    "robust_model = load_model(cst.ROBUST_trained_model)"
   ]
  },
  {
   "cell_type": "markdown",
   "metadata": {},
   "source": [
    "### Performance of the model on x_test under attack FGSM with $\\epsilon=0.03$"
   ]
  },
  {
   "cell_type": "code",
   "execution_count": null,
   "metadata": {},
   "outputs": [
    {
     "name": "stdout",
     "output_type": "stream",
     "text": [
      "ERROR! Session/line number was not unique in database. History logging moved to new session 221\n"
     ]
    }
   ],
   "source": [
    "x_test_robust_attacked_FGSM = np.load(cst.ROBUST_ATTACKED_TEST_FGSM)"
   ]
  },
  {
   "cell_type": "code",
   "execution_count": null,
   "metadata": {},
   "outputs": [
    {
     "name": "stdout",
     "output_type": "stream",
     "text": [
      "ERROR! Session/line number was not unique in database. History logging moved to new session 222\n"
     ]
    }
   ],
   "source": [
    "visualization.show_dataset_and_predictions(x_test_robust_attacked_FGSM, y_test, robust_model)"
   ]
  },
  {
   "cell_type": "markdown",
   "metadata": {},
   "source": [
    "### Performance of the model on x_test under attack PGD with $\\epsilon=0.008$ and nb_iter=$5$"
   ]
  },
  {
   "cell_type": "code",
   "execution_count": null,
   "metadata": {},
   "outputs": [
    {
     "name": "stdout",
     "output_type": "stream",
     "text": [
      "ERROR! Session/line number was not unique in database. History logging moved to new session 223\n"
     ]
    }
   ],
   "source": [
    "x_test_robust_attacked_PGD = np.load(cst.ROBUST_ATTACKED_TEST_PGD)"
   ]
  },
  {
   "cell_type": "code",
   "execution_count": null,
   "metadata": {},
   "outputs": [
    {
     "name": "stdout",
     "output_type": "stream",
     "text": [
      "ERROR! Session/line number was not unique in database. History logging moved to new session 224\n"
     ]
    }
   ],
   "source": [
    "visualization.show_dataset_and_predictions(x_test_robust_attacked_PGD, y_test, robust_model)"
   ]
  },
  {
   "cell_type": "markdown",
   "metadata": {},
   "source": [
    "### Performance of this model on x_test"
   ]
  },
  {
   "cell_type": "code",
   "execution_count": null,
   "metadata": {},
   "outputs": [
    {
     "name": "stdout",
     "output_type": "stream",
     "text": [
      "ERROR! Session/line number was not unique in database. History logging moved to new session 225\n"
     ]
    }
   ],
   "source": [
    "visualization.show_dataset_and_predictions(x_test, y_test, robust_model)"
   ]
  },
  {
   "cell_type": "markdown",
   "metadata": {},
   "source": [
    "We can observe that "
   ]
  },
  {
   "cell_type": "markdown",
   "metadata": {},
   "source": [
    "# Part 2 : Develop the best defense and see effects of other attacks"
   ]
  },
  {
   "cell_type": "markdown",
   "metadata": {},
   "source": [
    "## Show robustness of a model trained on not attacked data and attacked data"
   ]
  },
  {
   "cell_type": "markdown",
   "metadata": {},
   "source": [
    "### Load the model"
   ]
  },
  {
   "cell_type": "code",
   "execution_count": null,
   "metadata": {},
   "outputs": [
    {
     "name": "stdout",
     "output_type": "stream",
     "text": [
      "ERROR! Session/line number was not unique in database. History logging moved to new session 226\n"
     ]
    }
   ],
   "source": [
    "large_robust_model = load_model(cst.LARGE_ROBUST_trained_model)"
   ]
  },
  {
   "cell_type": "markdown",
   "metadata": {},
   "source": [
    "### Performance of this model on not attacked data"
   ]
  },
  {
   "cell_type": "code",
   "execution_count": null,
   "metadata": {},
   "outputs": [
    {
     "name": "stdout",
     "output_type": "stream",
     "text": [
      "ERROR! Session/line number was not unique in database. History logging moved to new session 227\n"
     ]
    }
   ],
   "source": [
    "visualization.show_dataset_and_predictions(x_test, y_test, large_robust_model)"
   ]
  },
  {
   "cell_type": "markdown",
   "metadata": {},
   "source": [
    "### Performance of this model on attacked data"
   ]
  },
  {
   "cell_type": "code",
   "execution_count": null,
   "metadata": {},
   "outputs": [
    {
     "name": "stdout",
     "output_type": "stream",
     "text": [
      "ERROR! Session/line number was not unique in database. History logging moved to new session 228\n"
     ]
    }
   ],
   "source": [
    "visualization.show_dataset_and_predictions(x_test_attacked, y_test, large_robust_model)"
   ]
  },
  {
   "cell_type": "markdown",
   "metadata": {},
   "source": [
    "## Summary"
   ]
  },
  {
   "cell_type": "markdown",
   "metadata": {},
   "source": [
    "|                                                                      \t| Accuracy on x_test \t| Accuracy on x_test_attacked \t|\n",
    "|----------------------------------------------------------------------\t|--------------------\t|-----------------------------\t|\n",
    "|                            Standard model                            \t|       78.56%       \t|            9.87%            \t|\n",
    "|             Robust model (1st adversarial training)            \t    |       49.29%       \t|            75.6%            \t|"
   ]
  },
  {
   "cell_type": "markdown",
   "metadata": {},
   "source": [
    "## Further investigation"
   ]
  },
  {
   "cell_type": "code",
   "execution_count": null,
   "metadata": {},
   "outputs": [],
   "source": []
  }
 ],
 "metadata": {
  "kernelspec": {
   "display_name": "Python 3",
   "language": "python",
   "name": "python3"
  },
  "language_info": {
   "codemirror_mode": {
    "name": "ipython",
    "version": 3
   },
   "file_extension": ".py",
   "mimetype": "text/x-python",
   "name": "python",
   "nbconvert_exporter": "python",
   "pygments_lexer": "ipython3",
   "version": "3.7.5"
  },
  "toc": {
   "base_numbering": 1,
   "nav_menu": {},
   "number_sections": true,
   "sideBar": true,
   "skip_h1_title": true,
   "title_cell": "Table of Contents",
   "title_sidebar": "Contents",
   "toc_cell": true,
   "toc_position": {
    "height": "calc(100% - 180px)",
    "left": "10px",
    "top": "150px",
    "width": "265.352px"
   },
   "toc_section_display": true,
   "toc_window_display": true
  }
 },
 "nbformat": 4,
 "nbformat_minor": 2
}
